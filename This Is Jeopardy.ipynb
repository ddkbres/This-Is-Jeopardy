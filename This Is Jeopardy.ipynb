{
 "cells": [
  {
   "cell_type": "code",
   "execution_count": null,
   "id": "102aebc0",
   "metadata": {},
   "outputs": [],
   "source": [
    "import pandas as pd\n",
    "pd.set_option('display.max_colwidth', -1)\n",
    "\n",
    "# Loading the data and investigating it\n",
    "jeopardy_data = pd.read_csv(\"jeopardy.csv\")\n",
    "#print(jeopardy_data)\n",
    "#print(jeopardy_data.columns)\n",
    "\n",
    "# Renaming misformatted columns\n",
    "jeopardy_data = jeopardy_data.rename(columns = {\" Air Date\": \"Air Date\", \" Round\" : \"Round\", \" Category\": \"Category\", \" Value\": \"Value\", \" Question\":\"Question\", \" Answer\": \"Answer\"})\n",
    "#print(jeopardy_data.columns)\n",
    "#print(jeopardy_data[\"Question\"])\n",
    "#print(jeopardy_data['Value'].head(60))\n",
    "\n",
    "# Filtering a dataset by a list of words\n",
    "def filter_data(data, words):\n",
    "  # Lowercases all words in the list of words as well as the questions. Returns true is all of the words in the list appear in the question.\n",
    "  filter = lambda x: all(word.lower() in x.lower() for word in words)\n",
    "  # Applies the labmda function to the Question column and returns the rows where the function returned True\n",
    "  return data.loc[data[\"Question\"].apply(filter)]\n",
    "\n",
    "# Testing the filter function\n",
    "filtered = filter_data(jeopardy_data, [\"King\", \"England\"])\n",
    "#print(filtered[\"Question\"])\n",
    "\n",
    "# Adding a new column. If the value of the float column is not \"None\", then we cut off the first character (which is a dollar sign), and replace all commas with nothing, and then cast that value to a float. If the answer was \"None\", then we just enter a 0.\n",
    "jeopardy_data[\"Float Value\"] = jeopardy_data[\"Value\"].apply(lambda x: float(x[1:].replace(',','')) if x != \"None\" else 0)\n",
    "\n",
    "# Filtering the dataset and finding the average value of those questions\n",
    "filtered = filter_data(jeopardy_data, [\"King\"])\n",
    "print(filtered[\"Float Value\"].mean())\n",
    "\n",
    "# A function to find the unique answers of a set of data\n",
    "def get_answer_counts(data):\n",
    "    return data[\"Answer\"].value_counts()\n",
    "\n",
    "# Testing the answer count function\n",
    "print(get_answer_counts(filtered))\n"
   ]
  }
 ],
 "metadata": {
  "kernelspec": {
   "display_name": "Python 3",
   "language": "python",
   "name": "python3"
  },
  "language_info": {
   "codemirror_mode": {
    "name": "ipython",
    "version": 3
   },
   "file_extension": ".py",
   "mimetype": "text/x-python",
   "name": "python",
   "nbconvert_exporter": "python",
   "pygments_lexer": "ipython3",
   "version": "3.8.8"
  }
 },
 "nbformat": 4,
 "nbformat_minor": 5
}
